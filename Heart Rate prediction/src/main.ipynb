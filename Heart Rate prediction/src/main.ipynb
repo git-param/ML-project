{
 "cells": [
  {
   "cell_type": "code",
   "execution_count": null,
   "id": "2106af94-ef9b-43bd-927d-e1cb12dc7631",
   "metadata": {},
   "outputs": [],
   "source": [
    "import data_loader\n",
    "import preprocess\n",
    "import model_prep\n",
    "import models\n",
    "import eval\n",
    "import deploy\n",
    "\n",
    "# Load data\n",
    "df = data_loader.load_data('../data/health_activity_data.csv')\n",
    "\n",
    "# Preprocess data\n",
    "df = preprocess.preprocess_data(df)\n",
    "\n",
    "# Prepare data for modeling (assuming 'Heart_Disease' as target)\n",
    "X_train_scaled, X_test_scaled, y_train, y_test, scaler = model_prep.prepare_data(df, 'Heart_Disease')\n",
    "\n",
    "# Train models\n",
    "rf_model = models.train_rf(X_train_scaled, y_train)\n",
    "knn_model = models.train_knn(X_train_scaled, y_train)\n",
    "gbc_model = models.train_gbc(X_train_scaled, y_train)\n",
    "\n",
    "# Evaluate models\n",
    "rf_accuracy, rf_report = eval.evaluate_model(rf_model, X_test_scaled, y_test)\n",
    "knn_accuracy, knn_report = eval.evaluate_model(knn_model, X_test_scaled, y_test)\n",
    "gbc_accuracy, gbc_report = eval.evaluate_model(gbc_model, X_test_scaled, y_test)\n",
    "\n",
    "# Print evaluation results\n",
    "print(\"Random Forest Accuracy:\", rf_accuracy)\n",
    "print(\"Random Forest Classification Report:\\n\", rf_report)\n",
    "print(\"KNN Accuracy:\", knn_accuracy)\n",
    "print(\"KNN Classification Report:\\n\", knn_report)\n",
    "print(\"Gradient Boosting Accuracy:\", gbc_accuracy)\n",
    "print(\"Gradient Boosting Classification Report:\\n\", gbc_report)\n",
    "\n",
    "# Save models and scaler\n",
    "deploy.save_model(rf_model, '../models/rf_model.pkl')\n",
    "deploy.save_model(knn_model, '../models/knn_model.pkl')\n",
    "deploy.save_model(gbc_model, '../models/gbc_model.pkl')\n",
    "deploy.save_scaler(scaler, '../models/scaler.pkl')"
   ]
  }
 ],
 "metadata": {
  "kernelspec": {
   "display_name": "Python 3 (ipykernel)",
   "language": "python",
   "name": "python3"
  },
  "language_info": {
   "codemirror_mode": {
    "name": "ipython",
    "version": 3
   },
   "file_extension": ".py",
   "mimetype": "text/x-python",
   "name": "python",
   "nbconvert_exporter": "python",
   "pygments_lexer": "ipython3",
   "version": "3.12.4"
  }
 },
 "nbformat": 4,
 "nbformat_minor": 5
}
