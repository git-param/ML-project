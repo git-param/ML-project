{
 "cells": [
  {
   "cell_type": "code",
   "execution_count": null,
   "id": "85d73f24-d6a4-48b9-ba0f-8b554a6b028b",
   "metadata": {},
   "outputs": [],
   "source": [
    "from sklearn.ensemble import RandomForestClassifier, GradientBoostingClassifier\n",
    "from sklearn.neighbors import KNeighborsClassifier\n",
    "\n",
    "def train_rf(X_train, y_train):\n",
    "    \"\"\"\n",
    "    Train a Random Forest Classifier.\n",
    "    \n",
    "    Args:\n",
    "        X_train (array-like): Training features.\n",
    "        y_train (array-like): Training target.\n",
    "    \n",
    "    Returns:\n",
    "        RandomForestClassifier: Trained model.\n",
    "    \"\"\"\n",
    "    rf_model = RandomForestClassifier(random_state=42)\n",
    "    rf_model.fit(X_train, y_train)\n",
    "    return rf_model\n",
    "\n",
    "def train_knn(X_train, y_train):\n",
    "    \"\"\"\n",
    "    Train a K-Nearest Neighbors Classifier.\n",
    "    \n",
    "    Args:\n",
    "        X_train (array-like): Training features.\n",
    "        y_train (array-like): Training target.\n",
    "    \n",
    "    Returns:\n",
    "        KNeighborsClassifier: Trained model.\n",
    "    \"\"\"\n",
    "    knn_model = KNeighborsClassifier()\n",
    "    knn_model.fit(X_train, y_train)\n",
    "    return knn_model\n",
    "\n",
    "def train_gbc(X_train, y_train):\n",
    "    \"\"\"\n",
    "    Train a Gradient Boosting Classifier.\n",
    "    \n",
    "    Args:\n",
    "        X_train (array-like): Training features.\n",
    "        y_train (array-like): Training target.\n",
    "    \n",
    "    Returns:\n",
    "        GradientBoostingClassifier: Trained model.\n",
    "    \"\"\"\n",
    "    gbc_model = GradientBoostingClassifier(random_state=42)\n",
    "    gbc_model.fit(X_train, y_train)\n",
    "    return gbc_model"
   ]
  }
 ],
 "metadata": {
  "kernelspec": {
   "display_name": "Python 3 (ipykernel)",
   "language": "python",
   "name": "python3"
  },
  "language_info": {
   "codemirror_mode": {
    "name": "ipython",
    "version": 3
   },
   "file_extension": ".py",
   "mimetype": "text/x-python",
   "name": "python",
   "nbconvert_exporter": "python",
   "pygments_lexer": "ipython3",
   "version": "3.12.4"
  }
 },
 "nbformat": 4,
 "nbformat_minor": 5
}
