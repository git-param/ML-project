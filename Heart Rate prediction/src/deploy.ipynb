{
 "cells": [
  {
   "cell_type": "code",
   "execution_count": null,
   "id": "88122613-8c83-492a-8db8-32ec8516ec12",
   "metadata": {},
   "outputs": [],
   "source": [
    "import pickle\n",
    "\n",
    "def save_model(model, file_path):\n",
    "    \"\"\"\n",
    "    Save a trained model to a file using pickle.\n",
    "    \n",
    "    Args:\n",
    "        model: Trained model object.\n",
    "        file_path (str): Path to save the model.\n",
    "    \"\"\"\n",
    "    with open(file_path, 'wb') as file:\n",
    "        pickle.dump(model, file)\n",
    "\n",
    "def save_scaler(scaler, file_path):\n",
    "    \"\"\"\n",
    "    Save the scaler object to a file using pickle.\n",
    "    \n",
    "    Args:\n",
    "        scaler: Fitted scaler object.\n",
    "        file_path (str): Path to save the scaler.\n",
    "    \"\"\"\n",
    "    with open(file_path, 'wb') as file:\n",
    "        pickle.dump(scaler, file)"
   ]
  }
 ],
 "metadata": {
  "kernelspec": {
   "display_name": "Python 3 (ipykernel)",
   "language": "python",
   "name": "python3"
  },
  "language_info": {
   "codemirror_mode": {
    "name": "ipython",
    "version": 3
   },
   "file_extension": ".py",
   "mimetype": "text/x-python",
   "name": "python",
   "nbconvert_exporter": "python",
   "pygments_lexer": "ipython3",
   "version": "3.12.4"
  }
 },
 "nbformat": 4,
 "nbformat_minor": 5
}
