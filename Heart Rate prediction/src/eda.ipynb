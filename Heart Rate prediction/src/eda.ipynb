{
 "cells": [
  {
   "cell_type": "code",
   "execution_count": null,
   "id": "17b38fae-8a7a-49bb-8317-43b12da3d2f1",
   "metadata": {},
   "outputs": [],
   "source": [
    "import pandas as pd\n",
    "\n",
    "def display_data_info(df):\n",
    "    \"\"\"\n",
    "    Display basic information about the dataframe for EDA.\n",
    "    \n",
    "    Args:\n",
    "        df (pd.DataFrame): Input dataframe.\n",
    "    \"\"\"\n",
    "    print(\"First 5 rows:\\n\", df.head())\n",
    "    print(\"\\nColumns:\\n\", df.columns)\n",
    "    print(\"\\nData Info:\")\n",
    "    df.info()\n",
    "    print(\"\\nMissing Values:\\n\", df.isna().sum())\n",
    "    print(\"\\nDescriptive Statistics:\\n\", df.describe())\n",
    "    print(\"\\nShape:\", df.shape)"
   ]
  }
 ],
 "metadata": {
  "kernelspec": {
   "display_name": "Python 3 (ipykernel)",
   "language": "python",
   "name": "python3"
  },
  "language_info": {
   "codemirror_mode": {
    "name": "ipython",
    "version": 3
   },
   "file_extension": ".py",
   "mimetype": "text/x-python",
   "name": "python",
   "nbconvert_exporter": "python",
   "pygments_lexer": "ipython3",
   "version": "3.12.4"
  }
 },
 "nbformat": 4,
 "nbformat_minor": 5
}
