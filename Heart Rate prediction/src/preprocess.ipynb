{
 "cells": [
  {
   "cell_type": "code",
   "execution_count": null,
   "id": "3807f3ef-023e-4d09-a9cf-01d929bf2a59",
   "metadata": {},
   "outputs": [],
   "source": [
    "def preprocess_data(df):\n",
    "    \"\"\"\n",
    "    Preprocess the health activity dataframe by encoding categorical variables\n",
    "    and splitting blood pressure into max and min values.\n",
    "    \n",
    "    Args:\n",
    "        df (pd.DataFrame): Input dataframe.\n",
    "    \n",
    "    Returns:\n",
    "        pd.DataFrame: Preprocessed dataframe.\n",
    "    \"\"\"\n",
    "    # Convert categorical variables to numerical\n",
    "    df['Gender'] = df['Gender'].map({'Male': 0, 'Female': 1})\n",
    "    df['Smoker'] = df['Smoker'].map({'No': 0, 'Yes': 1})\n",
    "    df['Diabetic'] = df['Diabetic'].map({'No': 0, 'Yes': 1})\n",
    "    df['Heart_Disease'] = df['Heart_Disease'].map({'No': 0, 'Yes': 1})\n",
    "    \n",
    "    # Split Blood Pressure into Max_BP and Min_BP\n",
    "    df[['Max_BP', 'Min_BP']] = df['Blood_Pressure'].str.split('/', expand=True)\n",
    "    df['Max_BP'] = pd.to_numeric(df['Max_BP'])\n",
    "    df['Min_BP'] = pd.to_numeric(df['Min_BP'])\n",
    "    df.drop('Blood_Pressure', axis=1, inplace=True)\n",
    "    \n",
    "    return df"
   ]
  }
 ],
 "metadata": {
  "kernelspec": {
   "display_name": "Python 3 (ipykernel)",
   "language": "python",
   "name": "python3"
  },
  "language_info": {
   "codemirror_mode": {
    "name": "ipython",
    "version": 3
   },
   "file_extension": ".py",
   "mimetype": "text/x-python",
   "name": "python",
   "nbconvert_exporter": "python",
   "pygments_lexer": "ipython3",
   "version": "3.12.4"
  }
 },
 "nbformat": 4,
 "nbformat_minor": 5
}
