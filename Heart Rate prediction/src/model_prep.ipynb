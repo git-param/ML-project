{
 "cells": [
  {
   "cell_type": "code",
   "execution_count": null,
   "id": "d99138ed-3792-4ab5-9c79-173b526b32ed",
   "metadata": {},
   "outputs": [],
   "source": [
    "from sklearn.model_selection import train_test_split\n",
    "from sklearn.preprocessing import StandardScaler\n",
    "\n",
    "def prepare_data(df, target_column, test_size=0.2, random_state=42):\n",
    "    \"\"\"\n",
    "    Prepare data for modeling by splitting into features and target,\n",
    "    scaling features, and creating train/test sets.\n",
    "    \n",
    "    Args:\n",
    "        df (pd.DataFrame): Preprocessed dataframe.\n",
    "        target_column (str): Name of the target column (e.g., 'Heart_Disease').\n",
    "        test_size (float): Proportion of data for testing (default: 0.2).\n",
    "        random_state (int): Seed for reproducibility (default: 42).\n",
    "    \n",
    "    Returns:\n",
    "        tuple: (X_train_scaled, X_test_scaled, y_train, y_test, scaler)\n",
    "    \"\"\"\n",
    "    # Split features and target\n",
    "    X = df.drop(target_column, axis=1)\n",
    "    y = df[target_column]\n",
    "    \n",
    "    # Split into training and testing sets\n",
    "    X_train, X_test, y_train, y_test = train_test_split(\n",
    "        X, y, test_size=test_size, random_state=random_state\n",
    "    )\n",
    "    \n",
    "    # Scale the features\n",
    "    scaler = StandardScaler()\n",
    "    X_train_scaled = scaler.fit_transform(X_train)\n",
    "    X_test_scaled = scaler.transform(X_test)\n",
    "    \n",
    "    return X_train_scaled, X_test_scaled, y_train, y_test, scaler"
   ]
  }
 ],
 "metadata": {
  "kernelspec": {
   "display_name": "Python 3 (ipykernel)",
   "language": "python",
   "name": "python3"
  },
  "language_info": {
   "codemirror_mode": {
    "name": "ipython",
    "version": 3
   },
   "file_extension": ".py",
   "mimetype": "text/x-python",
   "name": "python",
   "nbconvert_exporter": "python",
   "pygments_lexer": "ipython3",
   "version": "3.12.4"
  }
 },
 "nbformat": 4,
 "nbformat_minor": 5
}
