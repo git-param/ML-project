{
 "cells": [
  {
   "cell_type": "code",
   "execution_count": null,
   "id": "e01df4db-c200-4687-b0d9-86f5c7d514f1",
   "metadata": {},
   "outputs": [],
   "source": [
    "from sklearn.metrics import accuracy_score, classification_report\n",
    "\n",
    "def evaluate_model(model, X_test, y_test):\n",
    "    \"\"\"\n",
    "    Evaluate a trained model using accuracy and classification report.\n",
    "    \n",
    "    Args:\n",
    "        model: Trained model object.\n",
    "        X_test (array-like): Test features.\n",
    "        y_test (array-like): Test target.\n",
    "    \n",
    "    Returns:\n",
    "        tuple: (accuracy, classification_report)\n",
    "    \"\"\"\n",
    "    y_pred = model.predict(X_test)\n",
    "    accuracy = accuracy_score(y_test, y_pred)\n",
    "    report = classification_report(y_test, y_pred)\n",
    "    return accuracy, report"
   ]
  }
 ],
 "metadata": {
  "kernelspec": {
   "display_name": "Python 3 (ipykernel)",
   "language": "python",
   "name": "python3"
  },
  "language_info": {
   "codemirror_mode": {
    "name": "ipython",
    "version": 3
   },
   "file_extension": ".py",
   "mimetype": "text/x-python",
   "name": "python",
   "nbconvert_exporter": "python",
   "pygments_lexer": "ipython3",
   "version": "3.12.4"
  }
 },
 "nbformat": 4,
 "nbformat_minor": 5
}
